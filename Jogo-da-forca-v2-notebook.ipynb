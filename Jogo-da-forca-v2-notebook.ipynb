{
 "cells": [
  {
   "cell_type": "markdown",
   "metadata": {},
   "source": [
    "<h1> <b> <font color=\"#8a0e0e\"> Jogo da Forca versão 2 </font> </b> </h1>"
   ]
  },
  {
   "cell_type": "markdown",
   "metadata": {},
   "source": [
    "<h2><font color='#8a4a0e'>Objetivo</font></h2>"
   ]
  },
  {
   "cell_type": "markdown",
   "metadata": {},
   "source": [
    "O objetivo do presente projeto foi o desenvolvimento de um jogo da forca simples com uma espécie de tabuleiro definido, utilizando a versão 1 como base. O intuito principal do trabalho foi o aprimoramento e aprofundamento na prática de conceitos e técnicas da linguagem Python. Um conceito importante foi a utilização do pacote <code>random</code> e o aprofundamento na construção de funções. Dessa forma, o foco do projeto não foi a construção de um código otimizado, com menor tempo de execução ou simplificação, mas sim para o aperfeiçoamento e desenvolvimento de habilidades e competências referentes à linguagem Python."
   ]
  },
  {
   "cell_type": "markdown",
   "metadata": {},
   "source": [
    "<h2><font color='#8a4a0e'>Ferramentas Utilizadas</font></h2>"
   ]
  },
  {
   "cell_type": "markdown",
   "metadata": {},
   "source": [
    "Python 3.9.13"
   ]
  },
  {
   "cell_type": "markdown",
   "metadata": {},
   "source": [
    "<h2> <font color='#8a4a0e'> Desenvolvimento do código </font> </h2>"
   ]
  },
  {
   "cell_type": "markdown",
   "metadata": {},
   "source": [
    "<b>Utilizando o dicionário de palavras que foi produzido na versão 1 desse jogo, obteve-se o seguinte objeto do tipo dicionário em Python.</b>"
   ]
  },
  {
   "cell_type": "code",
   "execution_count": 1,
   "metadata": {},
   "outputs": [],
   "source": [
    "dicionario_palavras = {'Brasil': 'Países', 'Estados Unidos': 'Países', 'China': 'Países', 'Índia': 'Países', 'Japão': 'Países', 'Alemanha': 'Países', 'França': 'Países', 'Reino Unido': 'Países', 'Itália': 'Países', 'Canadá': 'Países', 'Rússia': 'Países', 'Austrália': 'Países', 'México': 'Países', 'Indonésia': 'Países', 'Espanha': 'Países', 'Turquia': 'Países', 'Arábia Saudita': 'Países', 'Coreia do Sul': 'Países', 'África do Sul': 'Países', 'Argentina': 'Países', 'Colômbia': 'Países', 'Egito': 'Países', 'Chile': 'Países', 'Peru': 'Países', 'Malásia': 'Países', 'Nigéria': 'Países', 'Ucrânia': 'Países', 'Polônia': 'Países', 'Holanda': 'Países', 'Bélgica': 'Países', 'Tailândia': 'Países', 'Suíça': 'Países', 'Suécia': 'Países', 'Noruega': 'Países', 'Dinamarca': 'Países', 'Finlândia': 'Países', 'Áustria': 'Países', 'Grécia': 'Países', 'Israel': 'Países', 'Hungria': 'Países', 'Portugal': 'Países', 'Irlanda': 'Países', 'Nova Zelândia': 'Países', 'Vietnã': 'Países', 'Filipinas': 'Países', 'Paquistão': 'Países', 'Irã': 'Países', 'Bangladesh': 'Países', 'Marrocos': 'Países', 'O Poderoso Chefão': 'Filmes Famosos', 'Forrest Gump': 'Filmes Famosos', 'O Senhor dos Anéis': 'Filmes Famosos', 'Star Wars': 'Filmes Famosos', 'Titanic': 'Filmes Famosos', 'Matrix': 'Filmes Famosos', 'Vingadores: Ultimato': 'Filmes Famosos', 'Jurassic Park': 'Filmes Famosos', 'Pulp Fiction': 'Filmes Famosos', 'Clube da Luta': 'Filmes Famosos', 'O Cavaleiro das Trevas': 'Filmes Famosos', 'De Volta para o Futuro': 'Filmes Famosos', 'Gladiador': 'Filmes Famosos', 'Toy Story': 'Filmes Famosos', 'E.T. - O Extraterrestre': 'Filmes Famosos', 'O Resgate do Soldado Ryan': 'Filmes Famosos', 'O Exorcista': 'Filmes Famosos', 'Indiana Jones': 'Filmes Famosos', 'Psicose': 'Filmes Famosos', 'Alien': 'Filmes Famosos', 'O Iluminado': 'Filmes Famosos', 'Coração Valente': 'Filmes Famosos', 'O Silêncio dos Inocentes': 'Filmes Famosos', 'Casablanca': 'Filmes Famosos', 'Os Caça-Fantasmas': 'Filmes Famosos', 'Tubarão': 'Filmes Famosos', 'O Grande Lebowski': 'Filmes Famosos', 'O Senhor dos Anéis: As Duas Torres': 'Filmes Famosos', 'A Origem': 'Filmes Famosos', 'Batman: O Cavaleiro das Trevas Ressurge': 'Filmes Famosos', 'O Rei Leão': 'Filmes Famosos', 'O Estranho Sem Nome': 'Filmes Famosos', 'Se7en': 'Filmes Famosos', 'Blade Runner': 'Filmes Famosos', 'Os Intocáveis': 'Filmes Famosos', 'Mad Max: Estrada da Fúria': 'Filmes Famosos', 'Harry Potter e a Pedra Filosofal': 'Filmes Famosos', 'Esqueceram de Mim': 'Filmes Famosos', 'A Vida é Bela': 'Filmes Famosos', 'Jurassic World': 'Filmes Famosos', 'Procurando Nemo': 'Filmes Famosos', 'Os Vingadores': 'Filmes Famosos', 'O Hobbit': 'Filmes Famosos', 'A Bela e a Fera': 'Filmes Famosos', 'Deadpool': 'Filmes Famosos', 'Star Trek': 'Filmes Famosos', 'Velozes e Furiosos': 'Filmes Famosos', 'Banana': 'Frutas', 'Maçã': 'Frutas', 'Abacaxi': 'Frutas', 'Laranja': 'Frutas', 'Uva': 'Frutas', 'Manga': 'Frutas', 'Morango': 'Frutas', 'Melancia': 'Frutas', 'Limão': 'Frutas', 'Pera': 'Frutas', 'Ameixa': 'Frutas', 'Kiwi': 'Frutas', 'Caju': 'Frutas', 'Goiaba': 'Frutas', 'Acerola': 'Frutas', 'Pêssego': 'Frutas', 'Melão': 'Frutas', 'Figo': 'Frutas', 'Maracujá': 'Frutas', 'Mamão': 'Frutas', 'Jabuticaba': 'Frutas', 'Romã': 'Frutas', 'Amora': 'Frutas', 'Pitanga': 'Frutas', 'Graviola': 'Frutas', 'Carambola': 'Frutas', 'Nectarina': 'Frutas', 'Cereja': 'Frutas', 'Lichia': 'Frutas', 'Framboesa': 'Frutas', 'Abacate': 'Frutas', 'Jaca': 'Frutas', 'Tamarindo': 'Frutas', 'Caqui': 'Frutas', 'Tangerina': 'Frutas', 'Coco': 'Frutas', 'Mirtilo': 'Frutas', 'Fruta do Conde': 'Frutas', 'Cambuci': 'Frutas', 'Mangostão': 'Frutas', 'Araçá': 'Frutas', 'Seriguela': 'Frutas', 'Uvaia': 'Frutas', 'Buriti': 'Frutas', 'Pitaya': 'Frutas', 'Cambucá': 'Frutas', 'Cupuaçu': 'Frutas', 'Açaí': 'Frutas', 'Physalis': 'Frutas', 'João': 'Nomes Comuns', 'Maria': 'Nomes Comuns', 'Pedro': 'Nomes Comuns', 'Ana': 'Nomes Comuns', 'Lucas': 'Nomes Comuns', 'Júlia': 'Nomes Comuns', 'Gabriel': 'Nomes Comuns', 'Beatriz': 'Nomes Comuns', 'Miguel': 'Nomes Comuns', 'Alice': 'Nomes Comuns', 'Arthur': 'Nomes Comuns', 'Laura': 'Nomes Comuns', 'Davi': 'Nomes Comuns', 'Helena': 'Nomes Comuns', 'Matheus': 'Nomes Comuns', 'Sofia': 'Nomes Comuns', 'Rafael': 'Nomes Comuns', 'Valentina': 'Nomes Comuns', 'Guilherme': 'Nomes Comuns', 'Isabella': 'Nomes Comuns', 'Enzo': 'Nomes Comuns', 'Luiza': 'Nomes Comuns', 'Leonardo': 'Nomes Comuns', 'Lívia': 'Nomes Comuns', 'Gustavo': 'Nomes Comuns', 'Giovanna': 'Nomes Comuns', 'Bernardo': 'Nomes Comuns', 'Emanuelly': 'Nomes Comuns', 'Henrique': 'Nomes Comuns', 'Clara': 'Nomes Comuns', 'Samuel': 'Nomes Comuns', 'Antonella': 'Nomes Comuns', 'Felipe': 'Nomes Comuns', 'Yasmin': 'Nomes Comuns', 'Vinícius': 'Nomes Comuns', 'Larissa': 'Nomes Comuns', 'Daniel': 'Nomes Comuns', 'Mariana': 'Nomes Comuns', 'Eduardo': 'Nomes Comuns', 'Gabriela': 'Nomes Comuns', 'Lorenzo': 'Nomes Comuns', 'Sara': 'Nomes Comuns', 'Murilo': 'Nomes Comuns', 'Melissa': 'Nomes Comuns', 'Theo': 'Nomes Comuns', 'Heloísa': 'Nomes Comuns', 'Heitor': 'Nomes Comuns', 'Rafaela': 'Nomes Comuns', 'Isaac': 'Nomes Comuns', 'Game of Thrones': 'Séries Famosas', 'Breaking Bad': 'Séries Famosas', 'Friends': 'Séries Famosas', 'Stranger Things': 'Séries Famosas', 'The Big Bang Theory': 'Séries Famosas', 'The Walking Dead': 'Séries Famosas', \"Grey's Anatomy\": 'Séries Famosas', 'The Office': 'Séries Famosas', 'House of Cards': 'Séries Famosas', 'Vikings': 'Séries Famosas', 'Sherlock': 'Séries Famosas', 'True Detective': 'Séries Famosas', 'The Mandalorian': 'Séries Famosas', 'Black Mirror': 'Séries Famosas', 'Westworld': 'Séries Famosas', 'The Crown': 'Séries Famosas', 'Narcos': 'Séries Famosas', 'Peaky Blinders': 'Séries Famosas', 'Sons of Anarchy': 'Séries Famosas', 'Dexter': 'Séries Famosas', 'Lost': 'Séries Famosas', 'House': 'Séries Famosas', 'How I Met Your Mother': 'Séries Famosas', 'Suits': 'Séries Famosas', '24 Horas': 'Séries Famosas', 'Prison Break': 'Séries Famosas', 'Mad Men': 'Séries Famosas', 'Homeland': 'Séries Famosas', 'Arrow': 'Séries Famosas', 'Supernatural': 'Séries Famosas', 'Buffy the Vampire Slayer': 'Séries Famosas', 'Smallville': 'Séries Famosas', 'Two and a Half Men': 'Séries Famosas', 'ER': 'Séries Famosas', 'CSI: Crime Scene Investigation': 'Séries Famosas', 'NCIS': 'Séries Famosas', 'The Sopranos': 'Séries Famosas', 'Seinfeld': 'Séries Famosas', 'The X-Files': 'Séries Famosas', \"The Handmaid's Tale\": 'Séries Famosas', 'Better Call Saul': 'Séries Famosas', 'Fargo': 'Séries Famosas', 'Parks and Recreation': 'Séries Famosas', 'Lucifer': 'Séries Famosas', 'Money Heist (La Casa de Papel)': 'Séries Famosas', 'Rick and Morty': 'Séries Famosas', 'Brooklyn Nine-Nine': 'Séries Famosas', 'The Witcher': 'Séries Famosas', 'Ozark': 'Séries Famosas'}\n"
   ]
  },
  {
   "cell_type": "markdown",
   "metadata": {},
   "source": [
    "<b>O próximo passo do projeto foi a montagem do código do jogo em si.</b>\n",
    "\n",
    "<b>Primeiramente, as bibliotecas que foram utilizadas neste projeto foram importadas. A <code>random</code> foi utilizada para selecionar elementos aleatórios em objeto definido. Nesse caso, ela foi utilizada para escolher aleatoriamente uma palavra de uma lista de palavras. </b>"
   ]
  },
  {
   "cell_type": "code",
   "execution_count": null,
   "metadata": {},
   "outputs": [],
   "source": [
    "import random\n",
    "from os import system, name"
   ]
  },
  {
   "cell_type": "markdown",
   "metadata": {},
   "source": [
    "<b>Para iniciar, foi criado um bloco de código para realizar a limpeza de tela a cada execução do programa.</b>"
   ]
  },
  {
   "cell_type": "code",
   "execution_count": null,
   "metadata": {},
   "outputs": [],
   "source": [
    "def limpa_tela():\n",
    "    if name == 'nt':\n",
    "        _ = system('cls')\n",
    "    else:\n",
    "        _ = system('clear')"
   ]
  },
  {
   "cell_type": "markdown",
   "metadata": {},
   "source": [
    "<b>A grande diferença com a versão 1 desse jogo é apresentada abaixo. O tabuleiro é representado por um boneco que incialmente é montado cada elemento do seu rosto, representado pelos itens de índice de 6 a 13. De 0 a 5 é representado o corpo do boneco sendo montado. E, por último, o índice 14 seria o rosto do boneco sem vida, que equivaleria ao usuário perder o jogo. Cada item foi associado a uma quantidade específica de tentivas restantes do usuário.</b>"
   ]
  },
  {
   "cell_type": "code",
   "execution_count": null,
   "metadata": {},
   "outputs": [],
   "source": [
    "def forca(numero_tentativas):\n",
    "    estagio = [\n",
    "    '''    -------------\n",
    "    |           |\n",
    "    |\n",
    "    |\n",
    "    |               \n",
    "    |\n",
    "    -''',\n",
    "    '''    -------------\n",
    "    |           |\n",
    "    |           O\n",
    "    |\n",
    "    |               \n",
    "    |\n",
    "    -''',\n",
    "    '''    -------------\n",
    "    |           |\n",
    "    |           O\n",
    "    |           |\n",
    "    |               \n",
    "    |\n",
    "    -''',\n",
    "    '''    -------------\n",
    "    |           |\n",
    "    |           O\n",
    "    |           |\n",
    "    |          /    \n",
    "    |\n",
    "    -''',\n",
    "    '''    -------------\n",
    "    |           |\n",
    "    |           O\n",
    "    |          /|\n",
    "    |          / \\\\\n",
    "    |\n",
    "    -''',\n",
    "    '''    -------------\n",
    "    |           |\n",
    "    |           O\n",
    "    |          /|\\\\\n",
    "    |          / \\\\\n",
    "    |\n",
    "    -''',\n",
    "    '''    (       ''',\n",
    "    '''    (      )''',\n",
    "    '''    ( ͡     )''',\n",
    "    '''    ( ͡    ͡ )''',\n",
    "    '''    ( ͡°   ͡ )''',\n",
    "    '''    ( ͡°   ͡°)''',\n",
    "    '''    ( ͡° ͜  ͡°)''',\n",
    "    '''    ( ͡° ͜ʖ ͡°)''',\n",
    "    '''×͜×''']\n",
    "    #Cada imagem do tabuleiro associada a um índice da lista acima\n",
    "    if numero_tentativas == 14:\n",
    "        print(estagio[0])\n",
    "        return\n",
    "    elif numero_tentativas == 13:\n",
    "        print(estagio[6])\n",
    "        return\n",
    "    elif numero_tentativas == 12:\n",
    "        print(estagio[7])\n",
    "        return\n",
    "    elif numero_tentativas == 11:\n",
    "        print(estagio[8])\n",
    "        return\n",
    "    elif numero_tentativas == 10:\n",
    "        print(estagio[9])\n",
    "        return\n",
    "    elif numero_tentativas == 9:\n",
    "        print(estagio[10])\n",
    "        return\n",
    "    elif numero_tentativas == 8:\n",
    "        print(estagio[11])\n",
    "        return\n",
    "    elif numero_tentativas == 7:\n",
    "        print(estagio[12])\n",
    "        return\n",
    "    elif numero_tentativas == 6:\n",
    "        print(estagio[13])\n",
    "        return\n",
    "    elif numero_tentativas == 5:\n",
    "        print(estagio[1])\n",
    "        return\n",
    "    elif numero_tentativas == 4:\n",
    "        print(estagio[2])\n",
    "        return\n",
    "    elif numero_tentativas == 3:\n",
    "        print(estagio[3])\n",
    "        return\n",
    "    elif numero_tentativas == 2:\n",
    "        print(estagio[4])\n",
    "        return\n",
    "    elif numero_tentativas == 1:\n",
    "        print(estagio[5])\n",
    "        return\n",
    "    elif numero_tentativas == 0:\n",
    "        print(estagio[14])\n",
    "        return"
   ]
  },
  {
   "cell_type": "markdown",
   "metadata": {},
   "source": [
    "<b>Como algumas palavras definidas do dicionário possuíam acento, como por exemplo, Índia, foi necessário definir uma função capaz de retirar os acentos das palavras para facilitar a inserção de letras pelo usuário. Dessa forma, as letras 'Í' e 'I' não apresentariam diferenças, não necessitando que o usuário inserisse necessariamente uma letra acentuada para corresponder à resposta. Embora, não houvesse todas as opções de acentos nas palavras definidas pelo ChatGPT, optou-se por realizar a função com todas as possibilidades.</b>"
   ]
  },
  {
   "cell_type": "code",
   "execution_count": null,
   "metadata": {},
   "outputs": [],
   "source": [
    "def substituir(palavra):\n",
    "    #Essa variável será a palavra escolhida do dicionário de forma aleatória posteriormente\n",
    "    palavra = str(palavra)\n",
    "    #A função lower() foi utilizada para não necessitar da diferenciação entre letras no início da palavra ou no meio\n",
    "    palavra2 = palavra.lower()\n",
    "    if 'á' in palavra2:\n",
    "        palavra2 = palavra2.replace('á','a')\n",
    "    if 'â' in palavra:\n",
    "        palavra2 = palavra2.replace('â','a')\n",
    "    if 'ã' in palavra:\n",
    "        palavra2 = palavra2.replace('ã','a')\n",
    "    if 'é' in palavra:\n",
    "        palavra2 = palavra2.replace('é','e')\n",
    "    if 'ê' in palavra:\n",
    "        palavra2 = palavra2.replace('ê','e')\n",
    "    if 'í' in palavra:\n",
    "        palavra2 = palavra2.replace('í','i')\n",
    "    if 'î' in palavra:\n",
    "        palavra2 = palavra2.replace('î','i')\n",
    "    if 'ó' in palavra:\n",
    "        palavra2 = palavra2.replace('ó','o')\n",
    "    if 'ô' in palavra:\n",
    "        palavra2 = palavra2.replace('ô','o')\n",
    "    if 'õ' in palavra:\n",
    "        palavra2 = palavra2.replace('õ','o')\n",
    "    if 'ú' in palavra:\n",
    "        palavra2 = palavra2.replace('ú','u')\n",
    "    if 'û' in palavra:\n",
    "        palavra2 = palavra2.replace('û','u')\n",
    "    #Retornando a primeira letra da palavra para maiúscula\n",
    "    palavra2 = palavra2.capitalize()\n",
    "    return palavra2"
   ]
  },
  {
   "cell_type": "markdown",
   "metadata": {},
   "source": [
    "<b>Para mostrar na tela do usuário uma espécie de gabarito para ele saber quantas letras faltam para serem adivinhadas e qual a posição de cada letra, foi definida a função abaixo para adicionar, de acordo com a palavra a ser adivinhada, o caracter '_' que ficará no lugar de cada letra que ainda não foi adivinhada. Uma lista foi criada para ser alterada posteriormente com a posição de cada letra adivinhada.</b>"
   ]
  },
  {
   "cell_type": "code",
   "execution_count": null,
   "metadata": {},
   "outputs": [],
   "source": [
    "def letras_palavra(charada):\n",
    "    memoria_resposta = []\n",
    "    #A variável charada serve para serve para receber a palavra a ser adivinhada\n",
    "    for letra in charada:\n",
    "        #Se a palavra possuir algum dos caracteres abaixo, eles não serão substituídos por '_'\n",
    "        if letra == '-' or letra == ')' or letra == '(' or letra == '.' or letra == ' ' or letra == ',':\n",
    "            memoria_resposta.append(letra)\n",
    "        elif letra == '1' or letra == '2' or letra == '3' or letra == '4' or letra == '5' or letra == '6' or letra == '7' or letra == '8' or letra == '9' or letra == '0':\n",
    "            memoria_resposta.append(letra)\n",
    "        #As letras são substituídas por '_'\n",
    "        else:\n",
    "            memoria_resposta.append('_')\n",
    "    return memoria_resposta"
   ]
  },
  {
   "cell_type": "markdown",
   "metadata": {},
   "source": [
    "<b>O bloco de código abaixo foi construído para a execução do jogo.</b>"
   ]
  },
  {
   "cell_type": "code",
   "execution_count": null,
   "metadata": {},
   "outputs": [],
   "source": [
    "def game():\n",
    "    #Execução da limpeza de tela\n",
    "    limpa_tela()\n",
    "    dicionário_palavras = {'Brasil': 'Países', 'Estados Unidos': 'Países', 'China': 'Países', 'Índia': 'Países', 'Japão': 'Países', 'Alemanha': 'Países', 'França': 'Países', 'Reino Unido': 'Países', 'Itália': 'Países', 'Canadá': 'Países', 'Rússia': 'Países', 'Austrália': 'Países', 'México': 'Países', 'Indonésia': 'Países', 'Espanha': 'Países', 'Turquia': 'Países', 'Arábia Saudita': 'Países', 'Coreia do Sul': 'Países', 'África do Sul': 'Países', 'Argentina': 'Países', 'Colômbia': 'Países', 'Egito': 'Países', 'Chile': 'Países', 'Peru': 'Países', 'Malásia': 'Países', 'Nigéria': 'Países', 'Ucrânia': 'Países', 'Polônia': 'Países', 'Holanda': 'Países', 'Bélgica': 'Países', 'Tailândia': 'Países', 'Suíça': 'Países', 'Suécia': 'Países', 'Noruega': 'Países', 'Dinamarca': 'Países', 'Finlândia': 'Países', 'Áustria': 'Países', 'Grécia': 'Países', 'Israel': 'Países', 'Hungria': 'Países', 'Portugal': 'Países', 'Irlanda': 'Países', 'Nova Zelândia': 'Países', 'Vietnã': 'Países', 'Filipinas': 'Países', 'Paquistão': 'Países', 'Irã': 'Países', 'Bangladesh': 'Países', 'Marrocos': 'Países', 'O Poderoso Chefão': 'Filmes Famosos', 'Forrest Gump': 'Filmes Famosos', 'O Senhor dos Anéis': 'Filmes Famosos', 'Star Wars': 'Filmes Famosos', 'Titanic': 'Filmes Famosos', 'Matrix': 'Filmes Famosos', 'Vingadores: Ultimato': 'Filmes Famosos', 'Jurassic Park': 'Filmes Famosos', 'Pulp Fiction': 'Filmes Famosos', 'Clube da Luta': 'Filmes Famosos', 'O Cavaleiro das Trevas': 'Filmes Famosos', 'De Volta para o Futuro': 'Filmes Famosos', 'Gladiador': 'Filmes Famosos', 'Toy Story': 'Filmes Famosos', 'E.T. - O Extraterrestre': 'Filmes Famosos', 'O Resgate do Soldado Ryan': 'Filmes Famosos', 'O Exorcista': 'Filmes Famosos', 'Indiana Jones': 'Filmes Famosos', 'Psicose': 'Filmes Famosos', 'Alien': 'Filmes Famosos', 'O Iluminado': 'Filmes Famosos', 'Coração Valente': 'Filmes Famosos', 'O Silêncio dos Inocentes': 'Filmes Famosos', 'Casablanca': 'Filmes Famosos', 'Os Caça-Fantasmas': 'Filmes Famosos', 'Tubarão': 'Filmes Famosos', 'O Grande Lebowski': 'Filmes Famosos', 'O Senhor dos Anéis: As Duas Torres': 'Filmes Famosos', 'A Origem': 'Filmes Famosos', 'Batman: O Cavaleiro das Trevas Ressurge': 'Filmes Famosos', 'O Rei Leão': 'Filmes Famosos', 'O Estranho Sem Nome': 'Filmes Famosos', 'Se7en': 'Filmes Famosos', 'Blade Runner': 'Filmes Famosos', 'Os Intocáveis': 'Filmes Famosos', 'Mad Max: Estrada da Fúria': 'Filmes Famosos', 'Harry Potter e a Pedra Filosofal': 'Filmes Famosos', 'Esqueceram de Mim': 'Filmes Famosos', 'A Vida é Bela': 'Filmes Famosos', 'Jurassic World': 'Filmes Famosos', 'Procurando Nemo': 'Filmes Famosos', 'Os Vingadores': 'Filmes Famosos', 'O Hobbit': 'Filmes Famosos', 'A Bela e a Fera': 'Filmes Famosos', 'Deadpool': 'Filmes Famosos', 'Star Trek': 'Filmes Famosos', 'Velozes e Furiosos': 'Filmes Famosos', 'Banana': 'Frutas', 'Maçã': 'Frutas', 'Abacaxi': 'Frutas', 'Laranja': 'Frutas', 'Uva': 'Frutas', 'Manga': 'Frutas', 'Morango': 'Frutas', 'Melancia': 'Frutas', 'Limão': 'Frutas', 'Pera': 'Frutas', 'Ameixa': 'Frutas', 'Kiwi': 'Frutas', 'Caju': 'Frutas', 'Goiaba': 'Frutas', 'Acerola': 'Frutas', 'Pêssego': 'Frutas', 'Melão': 'Frutas', 'Figo': 'Frutas', 'Maracujá': 'Frutas', 'Mamão': 'Frutas', 'Jabuticaba': 'Frutas', 'Romã': 'Frutas', 'Amora': 'Frutas', 'Pitanga': 'Frutas', 'Graviola': 'Frutas', 'Carambola': 'Frutas', 'Nectarina': 'Frutas', 'Cereja': 'Frutas', 'Lichia': 'Frutas', 'Framboesa': 'Frutas', 'Abacate': 'Frutas', 'Jaca': 'Frutas', 'Tamarindo': 'Frutas', 'Caqui': 'Frutas', 'Tangerina': 'Frutas', 'Coco': 'Frutas', 'Mirtilo': 'Frutas', 'Fruta do Conde': 'Frutas', 'Cambuci': 'Frutas', 'Mangostão': 'Frutas', 'Araçá': 'Frutas', 'Seriguela': 'Frutas', 'Uvaia': 'Frutas', 'Buriti': 'Frutas', 'Pitaya': 'Frutas', 'Cambucá': 'Frutas', 'Cupuaçu': 'Frutas', 'Açaí': 'Frutas', 'Physalis': 'Frutas', 'João': 'Nomes Comuns', 'Maria': 'Nomes Comuns', 'Pedro': 'Nomes Comuns', 'Ana': 'Nomes Comuns', 'Lucas': 'Nomes Comuns', 'Júlia': 'Nomes Comuns', 'Gabriel': 'Nomes Comuns', 'Beatriz': 'Nomes Comuns', 'Miguel': 'Nomes Comuns', 'Alice': 'Nomes Comuns', 'Arthur': 'Nomes Comuns', 'Laura': 'Nomes Comuns', 'Davi': 'Nomes Comuns', 'Helena': 'Nomes Comuns', 'Matheus': 'Nomes Comuns', 'Sofia': 'Nomes Comuns', 'Rafael': 'Nomes Comuns', 'Valentina': 'Nomes Comuns', 'Guilherme': 'Nomes Comuns', 'Isabella': 'Nomes Comuns', 'Enzo': 'Nomes Comuns', 'Luiza': 'Nomes Comuns', 'Leonardo': 'Nomes Comuns', 'Lívia': 'Nomes Comuns', 'Gustavo': 'Nomes Comuns', 'Giovanna': 'Nomes Comuns', 'Bernardo': 'Nomes Comuns', 'Emanuelly': 'Nomes Comuns', 'Henrique': 'Nomes Comuns', 'Clara': 'Nomes Comuns', 'Samuel': 'Nomes Comuns', 'Antonella': 'Nomes Comuns', 'Felipe': 'Nomes Comuns', 'Yasmin': 'Nomes Comuns', 'Vinícius': 'Nomes Comuns', 'Larissa': 'Nomes Comuns', 'Daniel': 'Nomes Comuns', 'Mariana': 'Nomes Comuns', 'Eduardo': 'Nomes Comuns', 'Gabriela': 'Nomes Comuns', 'Lorenzo': 'Nomes Comuns', 'Sara': 'Nomes Comuns', 'Murilo': 'Nomes Comuns', 'Melissa': 'Nomes Comuns', 'Theo': 'Nomes Comuns', 'Heloísa': 'Nomes Comuns', 'Heitor': 'Nomes Comuns', 'Rafaela': 'Nomes Comuns', 'Isaac': 'Nomes Comuns', 'Game of Thrones': 'Séries Famosas', 'Breaking Bad': 'Séries Famosas', 'Friends': 'Séries Famosas', 'Stranger Things': 'Séries Famosas', 'The Big Bang Theory': 'Séries Famosas', 'The Walking Dead': 'Séries Famosas', \"Grey's Anatomy\": 'Séries Famosas', 'The Office': 'Séries Famosas', 'House of Cards': 'Séries Famosas', 'Vikings': 'Séries Famosas', 'Sherlock': 'Séries Famosas', 'True Detective': 'Séries Famosas', 'The Mandalorian': 'Séries Famosas', 'Black Mirror': 'Séries Famosas', 'Westworld': 'Séries Famosas', 'The Crown': 'Séries Famosas', 'Narcos': 'Séries Famosas', 'Peaky Blinders': 'Séries Famosas', 'Sons of Anarchy': 'Séries Famosas', 'Dexter': 'Séries Famosas', 'Lost': 'Séries Famosas', 'House': 'Séries Famosas', 'How I Met Your Mother': 'Séries Famosas', 'Suits': 'Séries Famosas', '24 Horas': 'Séries Famosas', 'Prison Break': 'Séries Famosas', 'Mad Men': 'Séries Famosas', 'Homeland': 'Séries Famosas', 'Arrow': 'Séries Famosas', 'Supernatural': 'Séries Famosas', 'Buffy the Vampire Slayer': 'Séries Famosas', 'Smallville': 'Séries Famosas', 'Two and a Half Men': 'Séries Famosas', 'ER': 'Séries Famosas', 'CSI: Crime Scene Investigation': 'Séries Famosas', 'NCIS': 'Séries Famosas', 'The Sopranos': 'Séries Famosas', 'Seinfeld': 'Séries Famosas', 'The X-Files': 'Séries Famosas', \"The Handmaid's Tale\": 'Séries Famosas', 'Better Call Saul': 'Séries Famosas', 'Fargo': 'Séries Famosas', 'Parks and Recreation': 'Séries Famosas', 'Lucifer': 'Séries Famosas', 'Money Heist (La Casa de Papel)': 'Séries Famosas', 'Rick and Morty': 'Séries Famosas', 'Brooklyn Nine-Nine': 'Séries Famosas', 'The Witcher': 'Séries Famosas', 'Ozark': 'Séries Famosas'}\n",
    "    #Guardando a palavra definida aleatoriamente pela função choice() do pacote random\n",
    "    palavra1, grupo = random.choice(list(dicionário_palavras.items()))\n",
    "    #Uma lista é definida para gravar as letras erradas já escolhidas\n",
    "    letras_erradas = []\n",
    "    tentativas = int\n",
    "    \n",
    "    #Retirar os acentos da palavra escolhida para ser adivinhada\n",
    "    palavra_sem_acento = substituir(palavra1)\n",
    "\n",
    "    #Definição da quantidade máxima de tentativas\n",
    "    tentativas = 14\n",
    "\n",
    "    #Definir a quantidade de '_' que irão aparecer no gabarito da palavra\n",
    "    m = letras_palavra(palavra1)\n",
    "\n",
    "    #Mostrar o grupo da palavra a ser adivinhada\n",
    "    print(grupo)\n",
    "    \n",
    "    while tentativas > 0:\n",
    "        #Para verificar se todas as letras foram adivinhadas\n",
    "        if '_' not in m:\n",
    "            #Se não houver, então o usuário ganhou o jogo\n",
    "            print(f'----------\\nᕦ( ͡° ͜ʖ ͡°)ᕤ\\nVocê ganhou! A resposta é {palavra1}.')\n",
    "            return\n",
    "        print('\\n----------\\n')\n",
    "        #Chamada da função forca para determinar o estado do tabuleiro\n",
    "        forca(tentativas)\n",
    "        #Mostrar o gabarito na tela\n",
    "        print(' '.join(m))\n",
    "        #Mostrar quantidade de tentativas\n",
    "        print(f'Você ainda tem {tentativas} tentativas.')\n",
    "        #Mostrar a letras erradas\n",
    "        print('Letras erradas:',' '.join(letras_erradas))\n",
    "        #Pedir ao usuário a inserção de uma letra\n",
    "        letra = input('Insira uma letra: ')\n",
    "        #Essa condicional serve para não aceitar caracteres inválidos\n",
    "        if len(letra) != 1 or letra == 'â' or letra == 'ã' or letra == 'é' or letra == 'ê' or letra == 'í' or letra == 'î' or letra == 'ó' or letra =='ô' or letra == 'ú' or letra == 'û':\n",
    "            continue\n",
    "        #Se a letra inserida já estiver sido tentada, mas não estiver na palavra, o loop recomeça\n",
    "        elif letra.upper() in letras_erradas:\n",
    "            continue\n",
    "        #Se a letra escolhida estiver na palavra, segue essa condicional\n",
    "        elif letra.lower() in palavra_sem_acento.lower():\n",
    "            print(f'A letra \"{letra.upper()}\" está na palavra!')\n",
    "            #Verificar e substituir onde a letra escolhida de forma correta será colocada\n",
    "            for i in range(0,len(palavra1)):\n",
    "                #Comparar a letra minúscula com a palavra apenas com letras minúsculas para não ocorrer erro de comparação entre maiúscula e minúscula\n",
    "                if letra.lower() == palavra_sem_acento.lower()[i]:\n",
    "                    #Substituir o '_' no gabarito pela letra correta\n",
    "                    m[i] = letra.upper()\n",
    "                else:\n",
    "                    continue\n",
    "        #Se a letra escolhida não estiver na palavra e ainda não tiver sido verificada\n",
    "        elif letra.lower() not in palavra_sem_acento.lower():\n",
    "            #Reduzir o número de tentativas em 1\n",
    "            tentativas -= 1\n",
    "            #Adicionar a letra errada à lista de letras incorretas\n",
    "            letras_erradas.append(letra.upper())\n",
    "            print(f'A letra \"{letra.upper()}\" não está na palavra!')\n",
    "            #Verificar se ainda há tentativas\n",
    "            if tentativas == 0:\n",
    "                print('\\n----------')\n",
    "                #Se não houver mais tentativas, mostrar que a situação do tabuleiro e uma mensagem que o usuário perdeu\n",
    "                forca(tentativas)\n",
    "                print(f'----------\\nVocê perdeu! A resposta era {palavra1}')"
   ]
  },
  {
   "cell_type": "markdown",
   "metadata": {},
   "source": [
    "<b>Bloco 'main' para a execução do programa.</b>"
   ]
  },
  {
   "cell_type": "code",
   "execution_count": null,
   "metadata": {},
   "outputs": [],
   "source": [
    "if __name__ == \"__main__\":\n",
    "    game()\n",
    "    print('Até a próxima!')"
   ]
  }
 ],
 "metadata": {
  "kernelspec": {
   "display_name": "myenv",
   "language": "python",
   "name": "python3"
  },
  "language_info": {
   "codemirror_mode": {
    "name": "ipython",
    "version": 3
   },
   "file_extension": ".py",
   "mimetype": "text/x-python",
   "name": "python",
   "nbconvert_exporter": "python",
   "pygments_lexer": "ipython3",
   "version": "3.10.13"
  }
 },
 "nbformat": 4,
 "nbformat_minor": 2
}
